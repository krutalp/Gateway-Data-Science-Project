{
 "cells": [
  {
   "cell_type": "code",
   "execution_count": 35,
   "metadata": {},
   "outputs": [],
   "source": [
    "import os\n",
    "import torch\n",
    "import matplotlib.pyplot as plt\n",
    "from torchvision import datasets, transforms\n",
    "from torch.utils.data import DataLoader\n",
    "import numpy as np\n",
    "import torch.nn as nn\n",
    "import torchvision.models as models\n",
    "from torch.autograd import Variable\n",
    "import pandas as pd\n",
    "\n",
    "\n",
    "data_dir = os.path.join(\"./\", \"TrainTest\")"
   ]
  },
  {
   "cell_type": "code",
   "execution_count": 36,
   "metadata": {},
   "outputs": [],
   "source": [
    "resnet18 = models.resnet18(pretrained=True)\n",
    "modules=list(resnet18.children())[:-1]\n",
    "resnet18=nn.Sequential(*modules)\n",
    "for p in resnet18.parameters():\n",
    "    p.requires_grad = False"
   ]
  },
  {
   "cell_type": "code",
   "execution_count": 50,
   "metadata": {},
   "outputs": [
    {
     "ename": "ValueError",
     "evalue": "all the input arrays must have same number of dimensions, but the array at index 0 has 2 dimension(s) and the array at index 1 has 1 dimension(s)",
     "output_type": "error",
     "traceback": [
      "\u001b[1;31m---------------------------------------------------------------------------\u001b[0m",
      "\u001b[1;31mValueError\u001b[0m                                Traceback (most recent call last)",
      "\u001b[1;32mc:\\Users\\grace\\Gateway-Data-Science-Project\\viz_data.ipynb Cell 3'\u001b[0m in \u001b[0;36m<cell line: 11>\u001b[1;34m()\u001b[0m\n\u001b[0;32m     <a href='vscode-notebook-cell:/c%3A/Users/grace/Gateway-Data-Science-Project/viz_data.ipynb#ch0000001?line=13'>14</a>\u001b[0m encoding_np \u001b[39m=\u001b[39m encoding\u001b[39m.\u001b[39mnumpy()\n\u001b[0;32m     <a href='vscode-notebook-cell:/c%3A/Users/grace/Gateway-Data-Science-Project/viz_data.ipynb#ch0000001?line=14'>15</a>\u001b[0m encoding_np \u001b[39m=\u001b[39m encoding_np\u001b[39m.\u001b[39mreshape(\u001b[39m1\u001b[39m, \u001b[39m512\u001b[39m)\n\u001b[1;32m---> <a href='vscode-notebook-cell:/c%3A/Users/grace/Gateway-Data-Science-Project/viz_data.ipynb#ch0000001?line=15'>16</a>\u001b[0m encoding_np \u001b[39m=\u001b[39m np\u001b[39m.\u001b[39;49mappend(encoding_np, label, axis\u001b[39m=\u001b[39;49m\u001b[39m1\u001b[39;49m)\n\u001b[0;32m     <a href='vscode-notebook-cell:/c%3A/Users/grace/Gateway-Data-Science-Project/viz_data.ipynb#ch0000001?line=18'>19</a>\u001b[0m df \u001b[39m=\u001b[39m pd\u001b[39m.\u001b[39mDataFrame(encoding_np)\n\u001b[0;32m     <a href='vscode-notebook-cell:/c%3A/Users/grace/Gateway-Data-Science-Project/viz_data.ipynb#ch0000001?line=19'>20</a>\u001b[0m \u001b[39mprint\u001b[39m(df)\n",
      "File \u001b[1;32m<__array_function__ internals>:180\u001b[0m, in \u001b[0;36mappend\u001b[1;34m(*args, **kwargs)\u001b[0m\n",
      "File \u001b[1;32m~\\AppData\\Local\\Packages\\PythonSoftwareFoundation.Python.3.9_qbz5n2kfra8p0\\LocalCache\\local-packages\\Python39\\site-packages\\numpy\\lib\\function_base.py:5392\u001b[0m, in \u001b[0;36mappend\u001b[1;34m(arr, values, axis)\u001b[0m\n\u001b[0;32m   <a href='file:///c%3A/Users/grace/AppData/Local/Packages/PythonSoftwareFoundation.Python.3.9_qbz5n2kfra8p0/LocalCache/local-packages/Python39/site-packages/numpy/lib/function_base.py?line=5389'>5390</a>\u001b[0m     values \u001b[39m=\u001b[39m ravel(values)\n\u001b[0;32m   <a href='file:///c%3A/Users/grace/AppData/Local/Packages/PythonSoftwareFoundation.Python.3.9_qbz5n2kfra8p0/LocalCache/local-packages/Python39/site-packages/numpy/lib/function_base.py?line=5390'>5391</a>\u001b[0m     axis \u001b[39m=\u001b[39m arr\u001b[39m.\u001b[39mndim\u001b[39m-\u001b[39m\u001b[39m1\u001b[39m\n\u001b[1;32m-> <a href='file:///c%3A/Users/grace/AppData/Local/Packages/PythonSoftwareFoundation.Python.3.9_qbz5n2kfra8p0/LocalCache/local-packages/Python39/site-packages/numpy/lib/function_base.py?line=5391'>5392</a>\u001b[0m \u001b[39mreturn\u001b[39;00m concatenate((arr, values), axis\u001b[39m=\u001b[39;49maxis)\n",
      "File \u001b[1;32m<__array_function__ internals>:180\u001b[0m, in \u001b[0;36mconcatenate\u001b[1;34m(*args, **kwargs)\u001b[0m\n",
      "\u001b[1;31mValueError\u001b[0m: all the input arrays must have same number of dimensions, but the array at index 0 has 2 dimension(s) and the array at index 1 has 1 dimension(s)"
     ]
    }
   ],
   "source": [
    "transform = transforms.Compose([\n",
    "    transforms.ToTensor(),\n",
    "    transforms.Normalize(mean=[0.485, 0.456, 0.406], std=[0.229, 0.224, 0.225])\n",
    "])\n",
    "dataset = datasets.ImageFolder(data_dir, transform=transform)\n",
    "dataloader = DataLoader(dataset, batch_size=1, shuffle=True, num_workers=0)\n",
    "\n",
    "image_features = np.zeros((1, 513))\n",
    "\n",
    "#print(image_features)\n",
    "for data in dataloader:\n",
    "    image, label = data\n",
    "    encoding = resnet18(image) \n",
    "    encoding_np = encoding.numpy()\n",
    "    encoding_np = encoding_np.reshape(1, 512)\n",
    "    encoding_np = np.append(encoding_np, label, axis=1)\n",
    "  \n",
    "\n",
    "    df = pd.DataFrame(encoding_np)\n",
    "    print(df)\n",
    "    #print(image_features)\n",
    "    \n",
    "    \n",
    "    #image_features = np.append(image_features, encoding_np, axis=0)\n",
    "    #df = pd.DataFrame(image_features)\n",
    "    #print(df)\n",
    "    #print(image_features)\n",
    "    break\n",
    "     \n",
    "\n",
    "    #print(image.size())\n",
    "    #encoding = model(image) \n",
    "    #im_np = image.numpy()\n",
    "    #print(im.size())\n",
    "    # #plt.imshow(im_np)\n",
    "    #plt.imshow(torch.permute(im, (1, 2, 0)))\n",
    "    #plt.show()\n",
    "    #break\n",
    "\n",
    "# drop first row of zeros\n",
    "image_features = image_features.iloc[1: , :]"
   ]
  },
  {
   "cell_type": "code",
   "execution_count": null,
   "metadata": {},
   "outputs": [],
   "source": []
  }
 ],
 "metadata": {
  "interpreter": {
   "hash": "ef0449b78d65f986222fe6de62d45c4ffa86b01b59c20aa2b641fa79f48e3d61"
  },
  "kernelspec": {
   "display_name": "Python 3.8.5 ('base')",
   "language": "python",
   "name": "python3"
  },
  "language_info": {
   "codemirror_mode": {
    "name": "ipython",
    "version": 3
   },
   "file_extension": ".py",
   "mimetype": "text/x-python",
   "name": "python",
   "nbconvert_exporter": "python",
   "pygments_lexer": "ipython3",
   "version": "3.9.12"
  },
  "orig_nbformat": 4
 },
 "nbformat": 4,
 "nbformat_minor": 2
}
